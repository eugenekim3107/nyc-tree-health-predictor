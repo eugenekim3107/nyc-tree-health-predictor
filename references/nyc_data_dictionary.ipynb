{
 "cells": [
  {
   "cell_type": "markdown",
   "metadata": {},
   "source": [
    "# Data Dictionary\n",
    "---"
   ]
  },
  {
   "cell_type": "code",
   "execution_count": 1,
   "metadata": {},
   "outputs": [],
   "source": [
    "import pandas as pd\n",
    "import os"
   ]
  },
  {
   "cell_type": "code",
   "execution_count": 2,
   "metadata": {},
   "outputs": [],
   "source": [
    "#load data from files\n",
    "tree = pd.read_csv('Downloads/new_york_tree_census_2015.csv')"
   ]
  },
  {
   "cell_type": "code",
   "execution_count": 3,
   "metadata": {},
   "outputs": [],
   "source": [
    "#extract the necessary columns from the data set\n",
    "def column_extracter(data):\n",
    "    important_col = []\n",
    "    for i in [0,3,5,7,9,10,11,12,13,14,29,37,38]:\n",
    "        important_col = important_col + [data.columns[i]]\n",
    "    return data.loc[:, important_col]\n",
    "tree = column_extracter(tree)"
   ]
  },
  {
   "cell_type": "code",
   "execution_count": 4,
   "metadata": {},
   "outputs": [],
   "source": [
    "#choose the desired location in New York (Bronx for this project)\n",
    "tree = tree[tree['boroname'] == 'Bronx'].drop(columns= ['boroname'])\n",
    "tree = tree.set_index('tree_id')"
   ]
  },
  {
   "cell_type": "code",
   "execution_count": 5,
   "metadata": {},
   "outputs": [
    {
     "data": {
      "text/html": [
       "<div>\n",
       "<style scoped>\n",
       "    .dataframe tbody tr th:only-of-type {\n",
       "        vertical-align: middle;\n",
       "    }\n",
       "\n",
       "    .dataframe tbody tr th {\n",
       "        vertical-align: top;\n",
       "    }\n",
       "\n",
       "    .dataframe thead th {\n",
       "        text-align: right;\n",
       "    }\n",
       "</style>\n",
       "<table border=\"1\" class=\"dataframe\">\n",
       "  <thead>\n",
       "    <tr style=\"text-align: right;\">\n",
       "      <th></th>\n",
       "      <th>column</th>\n",
       "      <th>data_type</th>\n",
       "      <th>description</th>\n",
       "    </tr>\n",
       "  </thead>\n",
       "  <tbody>\n",
       "    <tr>\n",
       "      <th>0</th>\n",
       "      <td>tree_dbh</td>\n",
       "      <td>int64</td>\n",
       "      <td>tree diameter</td>\n",
       "    </tr>\n",
       "    <tr>\n",
       "      <th>1</th>\n",
       "      <td>curb_loc</td>\n",
       "      <td>object</td>\n",
       "      <td>curb location</td>\n",
       "    </tr>\n",
       "    <tr>\n",
       "      <th>2</th>\n",
       "      <td>health</td>\n",
       "      <td>object</td>\n",
       "      <td>tree health</td>\n",
       "    </tr>\n",
       "    <tr>\n",
       "      <th>3</th>\n",
       "      <td>spc_common</td>\n",
       "      <td>object</td>\n",
       "      <td>common species name</td>\n",
       "    </tr>\n",
       "    <tr>\n",
       "      <th>4</th>\n",
       "      <td>steward</td>\n",
       "      <td>object</td>\n",
       "      <td>number of stweard looking after tree</td>\n",
       "    </tr>\n",
       "    <tr>\n",
       "      <th>5</th>\n",
       "      <td>guards</td>\n",
       "      <td>object</td>\n",
       "      <td>level of care from guards looking after tree</td>\n",
       "    </tr>\n",
       "    <tr>\n",
       "      <th>6</th>\n",
       "      <td>sidewalk</td>\n",
       "      <td>object</td>\n",
       "      <td>level of damage on sidewalk</td>\n",
       "    </tr>\n",
       "    <tr>\n",
       "      <th>7</th>\n",
       "      <td>user_type</td>\n",
       "      <td>object</td>\n",
       "      <td>person collecting data</td>\n",
       "    </tr>\n",
       "    <tr>\n",
       "      <th>8</th>\n",
       "      <td>problems</td>\n",
       "      <td>object</td>\n",
       "      <td>problems with the tree</td>\n",
       "    </tr>\n",
       "    <tr>\n",
       "      <th>9</th>\n",
       "      <td>latitude</td>\n",
       "      <td>float64</td>\n",
       "      <td>latitude of tree location</td>\n",
       "    </tr>\n",
       "    <tr>\n",
       "      <th>10</th>\n",
       "      <td>longitude</td>\n",
       "      <td>float64</td>\n",
       "      <td>longitude of tree location</td>\n",
       "    </tr>\n",
       "  </tbody>\n",
       "</table>\n",
       "</div>"
      ],
      "text/plain": [
       "        column data_type                                   description\n",
       "0     tree_dbh     int64                                 tree diameter\n",
       "1     curb_loc    object                                 curb location\n",
       "2       health    object                                   tree health\n",
       "3   spc_common    object                           common species name\n",
       "4      steward    object          number of stweard looking after tree\n",
       "5       guards    object  level of care from guards looking after tree\n",
       "6     sidewalk    object                   level of damage on sidewalk\n",
       "7    user_type    object                        person collecting data\n",
       "8     problems    object                        problems with the tree\n",
       "9     latitude   float64                     latitude of tree location\n",
       "10   longitude   float64                    longitude of tree location"
      ]
     },
     "execution_count": 5,
     "metadata": {},
     "output_type": "execute_result"
    }
   ],
   "source": [
    "#create data dictionary\n",
    "details = {\n",
    "    'column' : list(tree),\n",
    "    'data_type' : [i for i in tree.dtypes],\n",
    "    'description' : ['tree diameter', 'curb location', 'tree health', 'common species name',\n",
    "                     'number of stweard looking after tree', 'level of care from guards looking after tree',\n",
    "                     'level of damage on sidewalk', 'person collecting data','problems with the tree',\n",
    "                     'latitude of tree location', 'longitude of tree location']\n",
    "}\n",
    "pd.DataFrame(details)"
   ]
  },
  {
   "cell_type": "code",
   "execution_count": null,
   "metadata": {},
   "outputs": [],
   "source": []
  }
 ],
 "metadata": {
  "kernelspec": {
   "display_name": "Python 3",
   "language": "python",
   "name": "python3"
  },
  "language_info": {
   "codemirror_mode": {
    "name": "ipython",
    "version": 3
   },
   "file_extension": ".py",
   "mimetype": "text/x-python",
   "name": "python",
   "nbconvert_exporter": "python",
   "pygments_lexer": "ipython3",
   "version": "3.8.5"
  }
 },
 "nbformat": 4,
 "nbformat_minor": 4
}
