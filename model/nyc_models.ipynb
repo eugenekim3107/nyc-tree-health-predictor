{
 "cells": [
  {
   "cell_type": "markdown",
   "metadata": {},
   "source": [
    "# Model Selection and Evaluation\n",
    "---"
   ]
  },
  {
   "cell_type": "markdown",
   "metadata": {},
   "source": [
    "## Gradient Boosting Classifier"
   ]
  },
  {
   "cell_type": "code",
   "execution_count": 50,
   "metadata": {},
   "outputs": [],
   "source": [
    "import numpy as np\n",
    "import joblib\n",
    "import matplotlib.pyplot as plt\n",
    "import pandas as pd\n",
    "from sklearn.metrics import accuracy_score, classification_report, make_scorer\n",
    "from sklearn.ensemble import GradientBoostingClassifier, RandomForestClassifier\n",
    "from sklearn.linear_model import LogisticRegressionCV\n",
    "from sklearn.model_selection import StratifiedKFold, cross_val_score, GridSearchCV\n",
    "from sklearn.neighbors import KNeighborsClassifier\n",
    "from sklearn.svm import SVC"
   ]
  },
  {
   "cell_type": "code",
   "execution_count": 2,
   "metadata": {},
   "outputs": [],
   "source": [
    "#load prepared dataset from notebook\n",
    "train_features = np.loadtxt('train_features.txt')\n",
    "train_label = np.loadtxt('train_label.txt')"
   ]
  },
  {
   "cell_type": "code",
   "execution_count": 3,
   "metadata": {},
   "outputs": [],
   "source": [
    "#load random forest classifier model using one-vs-rest strategy\n",
    "gbc = GradientBoostingClassifier()"
   ]
  },
  {
   "cell_type": "code",
   "execution_count": 4,
   "metadata": {},
   "outputs": [
    {
     "data": {
      "text/plain": [
       "GradientBoostingClassifier()"
      ]
     },
     "execution_count": 4,
     "metadata": {},
     "output_type": "execute_result"
    }
   ],
   "source": [
    "#fit model onto data\n",
    "gbc.fit(train_features, train_label)"
   ]
  },
  {
   "cell_type": "code",
   "execution_count": 5,
   "metadata": {},
   "outputs": [],
   "source": [
    "#make predictions\n",
    "gbc_predictions = gbc.predict(train_features)"
   ]
  },
  {
   "cell_type": "code",
   "execution_count": 30,
   "metadata": {},
   "outputs": [
    {
     "name": "stdout",
     "output_type": "stream",
     "text": [
      "              precision    recall  f1-score   support\n",
      "\n",
      "        Dead       0.99      1.00      0.99      3695\n",
      "        Poor       0.80      0.01      0.02      2476\n",
      "        Fair       0.69      0.01      0.02      8702\n",
      "        Good       0.83      1.00      0.91     53289\n",
      "\n",
      "    accuracy                           0.84     68162\n",
      "   macro avg       0.83      0.50      0.48     68162\n",
      "weighted avg       0.82      0.84      0.77     68162\n",
      "\n"
     ]
    }
   ],
   "source": [
    "#print classification report\n",
    "target_names = ['Dead', 'Poor', 'Fair', 'Good']\n",
    "print(classification_report(train_label, gbc_predictions, target_names = target_names))"
   ]
  },
  {
   "cell_type": "code",
   "execution_count": 54,
   "metadata": {},
   "outputs": [
    {
     "data": {
      "text/plain": [
       "<AxesSubplot:>"
      ]
     },
     "execution_count": 54,
     "metadata": {},
     "output_type": "execute_result"
    },
    {
     "data": {
      "image/png": "[encoded data removed]",
      "text/plain": [
       "<Figure size 432x288 with 2 Axes>"
      ]
     },
     "metadata": {
      "needs_background": "light"
     },
     "output_type": "display_data"
    }
   ],
   "source": [
    "#create heatmap of results\n",
    "import seaborn as sns\n",
    "clf_report = classification_report(train_label, gbc_predictions,\n",
    "                                   target_names=target_names,\n",
    "                                   output_dict=True)\n",
    "sns.heatmap(pd.DataFrame(clf_report).iloc[:-1, :].T, annot=True, cmap=\"Blues\")"
   ]
  },
  {
   "cell_type": "code",
   "execution_count": 51,
   "metadata": {},
   "outputs": [
    {
     "data": {
      "text/plain": [
       "<AxesSubplot:xlabel='label'>"
      ]
     },
     "execution_count": 51,
     "metadata": {},
     "output_type": "execute_result"
    },
    {
     "data": {
      "image/png": "[encoded data removed]",
      "text/plain": [
       "<Figure size 432x288 with 1 Axes>"
      ]
     },
     "metadata": {
      "needs_background": "light"
     },
     "output_type": "display_data"
    }
   ],
   "source": [
    "#create bar graph of results\n",
    "report_data = []\n",
    "for label, metrics in classification_report(train_label, gbc_predictions, target_names = target_names, output_dict = True).items():\n",
    "    if label != 'accuracy':\n",
    "        metrics['label'] = label\n",
    "        report_data.append(metrics)\n",
    "report_df = pd.DataFrame(report_data, columns=['label', 'precision', 'recall', 'f1-score', 'support'])\n",
    "report_df.plot(y=['precision', 'recall', 'f1-score'], x='label', kind='bar')"
   ]
  },
  {
   "cell_type": "markdown",
   "metadata": {},
   "source": [
    "---"
   ]
  },
  {
   "cell_type": "markdown",
   "metadata": {},
   "source": [
    "## K-Nearest Neighbors Classifier"
   ]
  },
  {
   "cell_type": "code",
   "execution_count": 7,
   "metadata": {},
   "outputs": [],
   "source": [
    "#load knn classifier model\n",
    "knn = KNeighborsClassifier()"
   ]
  },
  {
   "cell_type": "code",
   "execution_count": 9,
   "metadata": {},
   "outputs": [
    {
     "data": {
      "text/plain": [
       "GridSearchCV(cv=10, estimator=KNeighborsClassifier(),\n",
       "             param_grid={'metric': ['euclidean', 'manhattan', 'minkowski'],\n",
       "                         'n_neighbors': [5, 10]},\n",
       "             scoring='f1_micro')"
      ]
     },
     "execution_count": 9,
     "metadata": {},
     "output_type": "execute_result"
    }
   ],
   "source": [
    "#tune hyperparameters using grid search\n",
    "param_grid = {'n_neighbors': [5, 10], 'metric': ['euclidean', 'manhattan', 'minkowski']}\n",
    "grid_search = GridSearchCV(estimator = knn, param_grid = param_grid, cv = 10, scoring = 'f1_micro')\n",
    "grid_search.fit(train_features, train_label)"
   ]
  },
  {
   "cell_type": "code",
   "execution_count": 10,
   "metadata": {},
   "outputs": [
    {
     "data": {
      "text/plain": [
       "{'metric': 'manhattan', 'n_neighbors': 10}"
      ]
     },
     "execution_count": 10,
     "metadata": {},
     "output_type": "execute_result"
    }
   ],
   "source": [
    "#find the best hyperparameters\n",
    "grid_search.best_params_"
   ]
  },
  {
   "cell_type": "code",
   "execution_count": 11,
   "metadata": {},
   "outputs": [],
   "source": [
    "#load new model with correct parameters\n",
    "knn = KNeighborsClassifier(metric = 'manhattan', n_neighbors = 10)"
   ]
  },
  {
   "cell_type": "code",
   "execution_count": 12,
   "metadata": {},
   "outputs": [
    {
     "data": {
      "text/plain": [
       "KNeighborsClassifier(metric='manhattan', n_neighbors=10)"
      ]
     },
     "execution_count": 12,
     "metadata": {},
     "output_type": "execute_result"
    }
   ],
   "source": [
    "#fit model onto data\n",
    "knn.fit(train_features, train_label)"
   ]
  },
  {
   "cell_type": "code",
   "execution_count": 13,
   "metadata": {},
   "outputs": [],
   "source": [
    "#make predictions\n",
    "knn_predictions = knn.predict(train_features)"
   ]
  },
  {
   "cell_type": "code",
   "execution_count": 14,
   "metadata": {},
   "outputs": [
    {
     "name": "stdout",
     "output_type": "stream",
     "text": [
      "              precision    recall  f1-score   support\n",
      "\n",
      "        Dead       0.99      1.00      0.99      3695\n",
      "        Poor       0.54      0.06      0.12      2476\n",
      "        Fair       0.56      0.18      0.27      8702\n",
      "        Good       0.85      0.98      0.91     53289\n",
      "\n",
      "    accuracy                           0.85     68162\n",
      "   macro avg       0.73      0.56      0.57     68162\n",
      "weighted avg       0.81      0.85      0.80     68162\n",
      "\n"
     ]
    }
   ],
   "source": [
    "#print classification report\n",
    "print(classification_report(train_label, knn_predictions, target_names = target_names, output_dict = True))"
   ]
  },
  {
   "cell_type": "code",
   "execution_count": 55,
   "metadata": {},
   "outputs": [
    {
     "data": {
      "text/plain": [
       "<AxesSubplot:>"
      ]
     },
     "execution_count": 55,
     "metadata": {},
     "output_type": "execute_result"
    },
    {
     "data": {
      "image/png": "[encoded data removed]",
      "text/plain": [
       "<Figure size 432x288 with 2 Axes>"
      ]
     },
     "metadata": {
      "needs_background": "light"
     },
     "output_type": "display_data"
    }
   ],
   "source": [
    "#create heatmap of results\n",
    "import seaborn as sns\n",
    "clf_report = classification_report(train_label, knn_predictions,\n",
    "                                   target_names=target_names,\n",
    "                                   output_dict=True)\n",
    "sns.heatmap(pd.DataFrame(clf_report).iloc[:-1, :].T, annot=True, cmap=\"Blues\")"
   ]
  },
  {
   "cell_type": "code",
   "execution_count": 56,
   "metadata": {},
   "outputs": [
    {
     "data": {
      "text/plain": [
       "<AxesSubplot:xlabel='label'>"
      ]
     },
     "execution_count": 56,
     "metadata": {},
     "output_type": "execute_result"
    },
    {
     "data": {
      "image/png": "[encoded data removed]",
      "text/plain": [
       "<Figure size 432x288 with 1 Axes>"
      ]
     },
     "metadata": {
      "needs_background": "light"
     },
     "output_type": "display_data"
    }
   ],
   "source": [
    "#create bar graph of results\n",
    "report_data = []\n",
    "for label, metrics in classification_report(train_label, knn_predictions, target_names = target_names, output_dict = True).items():\n",
    "    if label != 'accuracy':\n",
    "        metrics['label'] = label\n",
    "        report_data.append(metrics)\n",
    "report_df = pd.DataFrame(report_data, columns=['label', 'precision', 'recall', 'f1-score', 'support'])\n",
    "report_df.plot(y=['precision', 'recall', 'f1-score'], x='label', kind='bar')"
   ]
  },
  {
   "cell_type": "markdown",
   "metadata": {},
   "source": [
    "## Support Vector Machines Classifier"
   ]
  },
  {
   "cell_type": "code",
   "execution_count": 20,
   "metadata": {},
   "outputs": [],
   "source": [
    "#load svm classifier model\n",
    "svm = SVC(kernel = 'rbf', decision_function_shape = 'ovr')"
   ]
  },
  {
   "cell_type": "code",
   "execution_count": 21,
   "metadata": {},
   "outputs": [
    {
     "data": {
      "text/plain": [
       "SVC()"
      ]
     },
     "execution_count": 21,
     "metadata": {},
     "output_type": "execute_result"
    }
   ],
   "source": [
    "#fit model onto data\n",
    "svm.fit(train_features, train_label)"
   ]
  },
  {
   "cell_type": "code",
   "execution_count": 22,
   "metadata": {},
   "outputs": [],
   "source": [
    "#make predictions\n",
    "svm_predictions = svm.predict(train_features)"
   ]
  },
  {
   "cell_type": "code",
   "execution_count": 23,
   "metadata": {},
   "outputs": [
    {
     "name": "stdout",
     "output_type": "stream",
     "text": [
      "              precision    recall  f1-score   support\n",
      "\n",
      "        Dead       0.99      1.00      0.99      3695\n",
      "        Poor       0.00      0.00      0.00      2476\n",
      "        Fair       0.00      0.00      0.00      8702\n",
      "        Good       0.83      1.00      0.90     53289\n",
      "\n",
      "    accuracy                           0.84     68162\n",
      "   macro avg       0.45      0.50      0.47     68162\n",
      "weighted avg       0.70      0.84      0.76     68162\n",
      "\n"
     ]
    }
   ],
   "source": [
    "#print classification report\n",
    "print(classification_report(train_label, svm_predictions, target_names = target_names, zero_division = 0, output_dict = True))"
   ]
  },
  {
   "cell_type": "code",
   "execution_count": 59,
   "metadata": {},
   "outputs": [
    {
     "data": {
      "text/plain": [
       "<AxesSubplot:>"
      ]
     },
     "execution_count": 59,
     "metadata": {},
     "output_type": "execute_result"
    },
    {
     "data": {
      "image/png": "[encoded data removed]",
      "text/plain": [
       "<Figure size 432x288 with 2 Axes>"
      ]
     },
     "metadata": {
      "needs_background": "light"
     },
     "output_type": "display_data"
    }
   ],
   "source": [
    "#create heatmap of results\n",
    "import seaborn as sns\n",
    "clf_report = classification_report(train_label, svm_predictions,\n",
    "                                   target_names=target_names,\n",
    "                                   zero_division = 0,\n",
    "                                   output_dict=True)\n",
    "sns.heatmap(pd.DataFrame(clf_report).iloc[:-1, :].T, annot=True, cmap=\"Blues\")"
   ]
  },
  {
   "cell_type": "code",
   "execution_count": 60,
   "metadata": {},
   "outputs": [
    {
     "data": {
      "text/plain": [
       "<AxesSubplot:xlabel='label'>"
      ]
     },
     "execution_count": 60,
     "metadata": {},
     "output_type": "execute_result"
    },
    {
     "data": {
      "image/png": "[encoded data removed]",
      "text/plain": [
       "<Figure size 432x288 with 1 Axes>"
      ]
     },
     "metadata": {
      "needs_background": "light"
     },
     "output_type": "display_data"
    }
   ],
   "source": [
    "#create bar graph of results\n",
    "report_data = []\n",
    "for label, metrics in classification_report(train_label, svm_predictions, target_names = target_names, output_dict = True).items():\n",
    "    if label != 'accuracy':\n",
    "        metrics['label'] = label\n",
    "        report_data.append(metrics)\n",
    "report_df = pd.DataFrame(report_data, columns=['label', 'precision', 'recall', 'f1-score', 'support'])\n",
    "report_df.plot(y=['precision', 'recall', 'f1-score'], x='label', kind='bar')"
   ]
  },
  {
   "cell_type": "markdown",
   "metadata": {},
   "source": [
    "## Random Forest Classifier"
   ]
  },
  {
   "cell_type": "code",
   "execution_count": 24,
   "metadata": {},
   "outputs": [],
   "source": [
    "#load rfc classifier model\n",
    "rfc = RandomForestClassifier(n_estimators = 100, max_features = 'sqrt')"
   ]
  },
  {
   "cell_type": "code",
   "execution_count": 25,
   "metadata": {},
   "outputs": [
    {
     "data": {
      "text/plain": [
       "RandomForestClassifier(max_features='sqrt')"
      ]
     },
     "execution_count": 25,
     "metadata": {},
     "output_type": "execute_result"
    }
   ],
   "source": [
    "#fit model onto data\n",
    "rfc.fit(train_features, train_label)"
   ]
  },
  {
   "cell_type": "code",
   "execution_count": 26,
   "metadata": {},
   "outputs": [],
   "source": [
    "#make predictions\n",
    "rfc_predictions = rfc.predict(train_features)"
   ]
  },
  {
   "cell_type": "code",
   "execution_count": 27,
   "metadata": {},
   "outputs": [
    {
     "name": "stdout",
     "output_type": "stream",
     "text": [
      "              precision    recall  f1-score   support\n",
      "\n",
      "        Dead       0.99      1.00      0.99      3695\n",
      "        Poor       0.31      0.11      0.16      2476\n",
      "        Fair       0.39      0.16      0.23      8702\n",
      "        Good       0.85      0.96      0.90     53289\n",
      "\n",
      "    accuracy                           0.83     68162\n",
      "   macro avg       0.64      0.56      0.57     68162\n",
      "weighted avg       0.78      0.83      0.79     68162\n",
      "\n"
     ]
    }
   ],
   "source": [
    "#intertwine cross validation with classification report\n",
    "originalclass = []\n",
    "predictedclass = []\n",
    "def classification_report_with_accuracy_score(y_true, y_pred):\n",
    "    originalclass.extend(y_true)\n",
    "    predictedclass.extend(y_pred)\n",
    "    return accuracy_score(y_true, y_pred)\n",
    "inner_cv = StratifiedKFold(n_splits=5, shuffle=True, random_state=42)\n",
    "outer_cv = StratifiedKFold(n_splits=5, shuffle=True, random_state=42)\n",
    "nested_score = cross_val_score(rfc, X=train_features, y =train_label, cv=5,\n",
    "                               scoring=make_scorer(classification_report_with_accuracy_score))\n",
    "print(classification_report(originalclass, predictedclass, target_names = target_names))"
   ]
  },
  {
   "cell_type": "code",
   "execution_count": 61,
   "metadata": {},
   "outputs": [
    {
     "data": {
      "text/plain": [
       "<AxesSubplot:>"
      ]
     },
     "execution_count": 61,
     "metadata": {},
     "output_type": "execute_result"
    },
    {
     "data": {
      "image/png": "[encoded data removed]",
      "text/plain": [
       "<Figure size 432x288 with 2 Axes>"
      ]
     },
     "metadata": {
      "needs_background": "light"
     },
     "output_type": "display_data"
    }
   ],
   "source": [
    "#create heatmap of results\n",
    "import seaborn as sns\n",
    "clf_report = classification_report(originalclass, predictedclass,\n",
    "                                   target_names=target_names,\n",
    "                                   output_dict=True)\n",
    "sns.heatmap(pd.DataFrame(clf_report).iloc[:-1, :].T, annot=True, cmap=\"Blues\")"
   ]
  },
  {
   "cell_type": "code",
   "execution_count": 62,
   "metadata": {},
   "outputs": [
    {
     "data": {
      "text/plain": [
       "<AxesSubplot:xlabel='label'>"
      ]
     },
     "execution_count": 62,
     "metadata": {},
     "output_type": "execute_result"
    },
    {
     "data": {
      "image/png": "[encoded data removed]",
      "text/plain": [
       "<Figure size 432x288 with 1 Axes>"
      ]
     },
     "metadata": {
      "needs_background": "light"
     },
     "output_type": "display_data"
    }
   ],
   "source": [
    "#create bar graph of results\n",
    "report_data = []\n",
    "for label, metrics in classification_report(train_label, svm_predictions, target_names = target_names, output_dict = True).items():\n",
    "    if label != 'accuracy':\n",
    "        metrics['label'] = label\n",
    "        report_data.append(metrics)\n",
    "report_df = pd.DataFrame(report_data, columns=['label', 'precision', 'recall', 'f1-score', 'support'])\n",
    "report_df.plot(y=['precision', 'recall', 'f1-score'], x='label', kind='bar')"
   ]
  },
  {
   "cell_type": "markdown",
   "metadata": {},
   "source": [
    "---"
   ]
  },
  {
   "cell_type": "markdown",
   "metadata": {},
   "source": [
    "## Scores from Test Set"
   ]
  },
  {
   "cell_type": "code",
   "execution_count": null,
   "metadata": {},
   "outputs": [],
   "source": []
  }
 ],
 "metadata": {
  "kernelspec": {
   "display_name": "Python 3",
   "language": "python",
   "name": "python3"
  },
  "language_info": {
   "codemirror_mode": {
    "name": "ipython",
    "version": 3
   },
   "file_extension": ".py",
   "mimetype": "text/x-python",
   "name": "python",
   "nbconvert_exporter": "python",
   "pygments_lexer": "ipython3",
   "version": "3.8.5"
  }
 },
 "nbformat": 4,
 "nbformat_minor": 4
}
